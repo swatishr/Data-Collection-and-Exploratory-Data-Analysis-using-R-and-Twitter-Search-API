{
 "cells": [
  {
   "cell_type": "markdown",
   "metadata": {},
   "source": [
    "# Lab Part 3: Twitter Application Development\n",
    "Group members:\n",
    "1. Swati Nair   ; UBIT: swatishr; Person Number: 50246994\n",
    "2. Bhavik N Gala; UBIT: bhavikna; Person Number: 50248608"
   ]
  },
  {
   "cell_type": "markdown",
   "metadata": {},
   "source": [
    "Citation: https://cran.r-project.org/web/packages/twitteR/twitteR.pdf"
   ]
  },
  {
   "cell_type": "code",
   "execution_count": 9,
   "metadata": {
    "collapsed": true
   },
   "outputs": [],
   "source": [
    "library(twitteR)\n",
    "library(maps)\n",
    "library(ggmap)"
   ]
  },
  {
   "cell_type": "markdown",
   "metadata": {},
   "source": [
    "1. Setting up twitter auth"
   ]
  },
  {
   "cell_type": "code",
   "execution_count": 10,
   "metadata": {},
   "outputs": [
    {
     "name": "stdout",
     "output_type": "stream",
     "text": [
      "[1] \"Using direct authentication\"\n"
     ]
    }
   ],
   "source": [
    "download.file(url=\"http://curl.haxx.se/ca/cacert.pem\", destfile=\"cacert.pem\")\n",
    "\n",
    "consumerKey = \"0y8DKbzLfjEAVq2gSwH1jKbt1\" \n",
    "consumerSecret = \"l7XhQKwX8bK5ZAJ7eOJ2jYI2Fn33U9E3hqMpZzExcK2GX9Xo1L\" \n",
    "access_token = \"1471799647-jrMzb5XVAf8nuYoQH8CtoqFAuH8lxDMrt9L1V2X\"\n",
    "access_secret = \"ik5TiBJZaU6p5RxTygJJkhOzVeR7CzVxiEXKS5YDwhMv9\"\n",
    "setup_twitter_oauth(consumerKey,\n",
    "                    consumerSecret,\n",
    "                    access_token,\n",
    "                    access_secret)"
   ]
  },
  {
   "cell_type": "markdown",
   "metadata": {},
   "source": [
    "1. Searching tweets with keyword \"flu\", number of tweets is set to 2500\n",
    "2. Saving the tweets to file"
   ]
  },
  {
   "cell_type": "code",
   "execution_count": 11,
   "metadata": {
    "collapsed": true
   },
   "outputs": [],
   "source": [
    "tweets <- searchTwitter('flu', n=2500, lang=\"en\", since=NULL, until=NULL, retryOnRateLimit=10, geocode=\"39.83,-98.58, 1500mi\")\n",
    "tweetsDF <- twListToDF(tweets)\n",
    "tweets <- searchTwitter('influenza', n=2500, lang=\"en\", since=NULL, until=NULL, retryOnRateLimit=10, geocode=\"39.83,-98.58, 1500mi\")\n",
    "tweetsDF <- rbind(tweetsDF, twListToDF(tweets))\n",
    "\n",
    "write.csv(tweetsDF, file = \"./lab1part3_data/tweets.csv\")"
   ]
  },
  {
   "cell_type": "markdown",
   "metadata": {},
   "source": [
    "1. Looking up users\n",
    "2. Filtering user profiles without location\n",
    "3. Writing the result to file"
   ]
  },
  {
   "cell_type": "code",
   "execution_count": 12,
   "metadata": {
    "collapsed": true
   },
   "outputs": [],
   "source": [
    "usernames <- tweetsDF$screenName\n",
    "userProfiles <- twListToDF(lookupUsers(usernames))\n",
    "userProfilesWithLocation <- userProfiles[!(userProfiles$location == \"\"),]\n",
    "\n",
    "write.csv(userProfilesWithLocation, file = \"./lab1part3_data/lookupUsersDataWithSomeLocation.csv\")"
   ]
  },
  {
   "cell_type": "markdown",
   "metadata": {},
   "source": [
    "1. Creating empty dataframe with column name as region\n",
    "2. Looping through the userProfilesWithLocation dataframe\n",
    "3. Reading location from a row, changing its encoding to UTF-8 to prevent errors\n",
    "4. Calling geocode api for that single location\n",
    "5. If the geocode api output has the administrative_area_level_1 column then save the value locations dataframe\n",
    "6. Convert the values in locations dataframe to lowercase\n",
    "7. Find the frequency of region in locations dataframe\n",
    "8. Write it to a file"
   ]
  },
  {
   "cell_type": "code",
   "execution_count": 15,
   "metadata": {},
   "outputs": [
    {
     "name": "stderr",
     "output_type": "stream",
     "text": [
      "Information from URL : http://maps.googleapis.com/maps/api/geocode/json?address=OKLAHOMA&sensor=false\n",
      "Information from URL : http://maps.googleapis.com/maps/api/geocode/json?address=Inverness&sensor=false\n",
      "Warning message:\n",
      "\"geocode failed with status OVER_QUERY_LIMIT, location = \"Inverness\"\"Information from URL : http://maps.googleapis.com/maps/api/geocode/json?address=Canada&sensor=false\n",
      "Information from URL : http://maps.googleapis.com/maps/api/geocode/json?address=St%20Marys,%20WV&sensor=false\n",
      "Warning message:\n",
      "\"geocode failed with status OVER_QUERY_LIMIT, location = \"St Marys, WV\"\"Information from URL : http://maps.googleapis.com/maps/api/geocode/json?address=Washington,%20NH&sensor=false\n"
     ]
    }
   ],
   "source": [
    "locations <- data.frame(region=character())\n",
    "\n",
    "for(x in c(1:5)){\n",
    "  date_time <- Sys.time()\n",
    "  \n",
    "  l = userProfilesWithLocation[x,]$location\n",
    "  l <- iconv(l, \"\", \"UTF-8\")\n",
    "  location <- geocode(l, output=\"more\")\n",
    "  if(\"administrative_area_level_1\" %in% colnames(location)){\n",
    "    nwRW = data.frame(region=location$administrative_area_level_1)\n",
    "    # print(nwRW$region)\n",
    "    locations <- rbind(locations, nwRW)\n",
    "  }\n",
    "  while((as.numeric(Sys.time()) - as.numeric(date_time))<10){}\n",
    "}\n",
    "\n",
    "locations$region <- lapply(locations$region, tolower)\n",
    "locations$region <- vapply(locations$region, paste, collapse=\",\", character(1L))\n",
    "locations <- data.frame(table(locations$region))\n",
    "names(locations)[1] <- \"region\"\n",
    "\n",
    "write.csv(locations, file = \"./lab1part3_data/locationsFromGeocode.csv\")"
   ]
  },
  {
   "cell_type": "markdown",
   "metadata": {},
   "source": [
    "1. Plot the heatmap"
   ]
  },
  {
   "cell_type": "code",
   "execution_count": 22,
   "metadata": {},
   "outputs": [
    {
     "data": {},
     "metadata": {},
     "output_type": "display_data"
    },
    {
     "data": {
      "image/png": "[encoded data removed]",
      "text/plain": [
       "plot without title"
      ]
     },
     "metadata": {},
     "output_type": "display_data"
    }
   ],
   "source": [
    "locations <- read.csv(\"./lab1part3_data/locationsFromGeocode.csv\", header=TRUE, sep=\",\")\n",
    "\n",
    "# CELL 6\n",
    "library(ggplot2)\n",
    "library(RColorBrewer)\n",
    "states <- map_data(\"state\")\n",
    "mergedData <- merge(states, locations, by=\"region\")\n",
    "\n",
    "options(repr.plot.width = 10, repr.plot.height = 7)\n",
    "p <- ggplot()\n",
    "p <- p + \n",
    "  geom_polygon(data=mergedData, aes(x=long, y=lat, group = group, \n",
    "                                    fill=mergedData$Freq),colour=\"white\")\n",
    "P1 <- p + \n",
    "  scale_fill_gradientn(colours= brewer.pal(7, \"YlOrRd\"), limits=c(0, 400)) +\n",
    "  labs(fill = \"Tweet Count\" ,title = \"2017-18 Influenza Season Analysis from Twitter Data\", x=\"\", y=\"\")\n",
    "P1 + theme(axis.line = element_line(colour = \"grey\"),\n",
    "           panel.grid.major = element_blank(),\n",
    "           panel.grid.minor = element_blank(),\n",
    "           panel.border = element_blank(),\n",
    "           panel.background = element_blank())\n"
   ]
  }
 ],
 "metadata": {
  "kernelspec": {
   "display_name": "R",
   "language": "R",
   "name": "ir"
  },
  "language_info": {
   "codemirror_mode": "r",
   "file_extension": ".r",
   "mimetype": "text/x-r-source",
   "name": "R",
   "pygments_lexer": "r",
   "version": "3.4.2"
  }
 },
 "nbformat": 4,
 "nbformat_minor": 2
}
